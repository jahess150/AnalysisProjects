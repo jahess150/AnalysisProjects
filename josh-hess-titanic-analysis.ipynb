{
 "cells": [
  {
   "cell_type": "markdown",
   "id": "14ec541c",
   "metadata": {
    "papermill": {
     "duration": 0.007594,
     "end_time": "2024-05-09T18:04:17.880177",
     "exception": false,
     "start_time": "2024-05-09T18:04:17.872583",
     "status": "completed"
    },
    "tags": []
   },
   "source": [
    "# Titanic Machine Learning Analysis\n",
    "## Joshua Hess\n",
    "\n",
    "This notebook contains my first machine learning analysis with the Titanic dataset. Our goal with this analysis is to create a machine learning model that can predict which passengers survived on the Titanic based on their data. First, let's load in our libraries and our data:"
   ]
  },
  {
   "cell_type": "code",
   "execution_count": 1,
   "id": "db4972c1",
   "metadata": {
    "execution": {
     "iopub.execute_input": "2024-05-09T18:04:17.897034Z",
     "iopub.status.busy": "2024-05-09T18:04:17.896417Z",
     "iopub.status.idle": "2024-05-09T18:04:20.860014Z",
     "shell.execute_reply": "2024-05-09T18:04:20.858346Z"
    },
    "papermill": {
     "duration": 2.975375,
     "end_time": "2024-05-09T18:04:20.862896",
     "exception": false,
     "start_time": "2024-05-09T18:04:17.887521",
     "status": "completed"
    },
    "tags": []
   },
   "outputs": [
    {
     "name": "stdout",
     "output_type": "stream",
     "text": [
      "   PassengerId  Survived  Pclass  \\\n",
      "0            1         0       3   \n",
      "1            2         1       1   \n",
      "2            3         1       3   \n",
      "3            4         1       1   \n",
      "4            5         0       3   \n",
      "\n",
      "                                                Name     Sex   Age  SibSp  \\\n",
      "0                            Braund, Mr. Owen Harris    male  22.0      1   \n",
      "1  Cumings, Mrs. John Bradley (Florence Briggs Th...  female  38.0      1   \n",
      "2                             Heikkinen, Miss. Laina  female  26.0      0   \n",
      "3       Futrelle, Mrs. Jacques Heath (Lily May Peel)  female  35.0      1   \n",
      "4                           Allen, Mr. William Henry    male  35.0      0   \n",
      "\n",
      "   Parch            Ticket     Fare Cabin Embarked  \n",
      "0      0         A/5 21171   7.2500   NaN        S  \n",
      "1      0          PC 17599  71.2833   C85        C  \n",
      "2      0  STON/O2. 3101282   7.9250   NaN        S  \n",
      "3      0            113803  53.1000  C123        S  \n",
      "4      0            373450   8.0500   NaN        S  \n",
      "<class 'pandas.core.frame.DataFrame'>\n",
      "RangeIndex: 1309 entries, 0 to 1308\n",
      "Data columns (total 12 columns):\n",
      " #   Column       Non-Null Count  Dtype  \n",
      "---  ------       --------------  -----  \n",
      " 0   PassengerId  1309 non-null   int64  \n",
      " 1   Survived     891 non-null    float64\n",
      " 2   Pclass       1309 non-null   int64  \n",
      " 3   Name         1309 non-null   object \n",
      " 4   Sex          1309 non-null   object \n",
      " 5   Age          1046 non-null   float64\n",
      " 6   SibSp        1309 non-null   int64  \n",
      " 7   Parch        1309 non-null   int64  \n",
      " 8   Ticket       1309 non-null   object \n",
      " 9   Fare         1308 non-null   float64\n",
      " 10  Cabin        295 non-null    object \n",
      " 11  Embarked     1307 non-null   object \n",
      "dtypes: float64(3), int64(4), object(5)\n",
      "memory usage: 122.8+ KB\n",
      "None\n"
     ]
    }
   ],
   "source": [
    "# import libraries\n",
    "import pandas as pd\n",
    "import matplotlib.pyplot as plt\n",
    "import seaborn as sns\n",
    "\n",
    "# read in data\n",
    "train = pd.read_csv(\"/kaggle/input/d/elintrix/titanic/train.csv\")\n",
    "test = pd.read_csv(\"/kaggle/input/d/elintrix/titanic/test.csv\")\n",
    "\n",
    "# Glimpse at the training data\n",
    "print(train.head())\n",
    "\n",
    "# Aggregate training and testing data\n",
    "td = pd.concat([train, test], ignore_index = True, sort = False)\n",
    "print(td.info())"
   ]
  },
  {
   "cell_type": "markdown",
   "id": "bda14031",
   "metadata": {
    "papermill": {
     "duration": 0.006565,
     "end_time": "2024-05-09T18:04:20.876379",
     "exception": false,
     "start_time": "2024-05-09T18:04:20.869814",
     "status": "completed"
    },
    "tags": []
   },
   "source": [
    "# Section 1 - Missing Values\n",
    "\n",
    "The first thing we have to do before beginning our analysis is tidying up our data. Looking at the information above, we can see we have missing values in the `Age`, `Cabin`, `Fare`, and `Embarked` columns. (Note: the missing values in the `Survived` column are from the testing data). Let's deal with each one individually.\n",
    "\n",
    "## Cabin\n",
    "\n",
    "We can see that the majority of observations are missing a value for `Cabin`. Imputing values would likely hurt our model due to the lack of data, so we will create a new value `\"NA\"` for missing values in this column:"
   ]
  },
  {
   "cell_type": "code",
   "execution_count": 2,
   "id": "670356a7",
   "metadata": {
    "execution": {
     "iopub.execute_input": "2024-05-09T18:04:20.891618Z",
     "iopub.status.busy": "2024-05-09T18:04:20.891154Z",
     "iopub.status.idle": "2024-05-09T18:04:20.898608Z",
     "shell.execute_reply": "2024-05-09T18:04:20.897617Z"
    },
    "papermill": {
     "duration": 0.018197,
     "end_time": "2024-05-09T18:04:20.901121",
     "exception": false,
     "start_time": "2024-05-09T18:04:20.882924",
     "status": "completed"
    },
    "tags": []
   },
   "outputs": [],
   "source": [
    "# For every missing value, update the Cabin value to \"NA\"\n",
    "td['Cabin'] = td['Cabin'].fillna(\"NA\")"
   ]
  },
  {
   "cell_type": "markdown",
   "id": "f0deeb46",
   "metadata": {
    "papermill": {
     "duration": 0.006521,
     "end_time": "2024-05-09T18:04:20.914349",
     "exception": false,
     "start_time": "2024-05-09T18:04:20.907828",
     "status": "completed"
    },
    "tags": []
   },
   "source": [
    "## Fare\n",
    "\n",
    "We only have one missing value in the `Fare` column. Looking at the boxplot of the `Fare` distribution below, the data is highly skewed by extreme values. So we will impute the median of `Fare` in for each missing value:"
   ]
  },
  {
   "cell_type": "code",
   "execution_count": 3,
   "id": "c46e706f",
   "metadata": {
    "execution": {
     "iopub.execute_input": "2024-05-09T18:04:20.930057Z",
     "iopub.status.busy": "2024-05-09T18:04:20.929605Z",
     "iopub.status.idle": "2024-05-09T18:04:21.198361Z",
     "shell.execute_reply": "2024-05-09T18:04:21.196664Z"
    },
    "papermill": {
     "duration": 0.280786,
     "end_time": "2024-05-09T18:04:21.201874",
     "exception": false,
     "start_time": "2024-05-09T18:04:20.921088",
     "status": "completed"
    },
    "tags": []
   },
   "outputs": [
    {
     "data": {
      "image/png": "[encoded data removed]",
      "text/plain": [
       "<Figure size 640x480 with 1 Axes>"
      ]
     },
     "metadata": {},
     "output_type": "display_data"
    },
    {
     "data": {
      "text/plain": [
       "0         7.2500\n",
       "1        71.2833\n",
       "2         7.9250\n",
       "3        53.1000\n",
       "4         8.0500\n",
       "          ...   \n",
       "1304      8.0500\n",
       "1305    108.9000\n",
       "1306      7.2500\n",
       "1307      8.0500\n",
       "1308     22.3583\n",
       "Name: Fare, Length: 1309, dtype: float64"
      ]
     },
     "execution_count": 3,
     "metadata": {},
     "output_type": "execute_result"
    }
   ],
   "source": [
    "# Check distribution of Fare\n",
    "sns.boxplot(data = td, x = 'Fare')\n",
    "plt.show()\n",
    "\n",
    "# Impute median Fare for each missing value\n",
    "td['Fare'].fillna(td['Fare'].median())"
   ]
  },
  {
   "cell_type": "markdown",
   "id": "e514f688",
   "metadata": {
    "papermill": {
     "duration": 0.010963,
     "end_time": "2024-05-09T18:04:21.221394",
     "exception": false,
     "start_time": "2024-05-09T18:04:21.210431",
     "status": "completed"
    },
    "tags": []
   },
   "source": [
    "## Embarked\n",
    "\n",
    "For the embarked column, we can simply fill in the missing values with the mode of the column, since there are only two missing values:"
   ]
  },
  {
   "cell_type": "code",
   "execution_count": 4,
   "id": "c0f9a5d0",
   "metadata": {
    "execution": {
     "iopub.execute_input": "2024-05-09T18:04:21.242737Z",
     "iopub.status.busy": "2024-05-09T18:04:21.241587Z",
     "iopub.status.idle": "2024-05-09T18:04:21.254321Z",
     "shell.execute_reply": "2024-05-09T18:04:21.253241Z"
    },
    "papermill": {
     "duration": 0.026342,
     "end_time": "2024-05-09T18:04:21.257294",
     "exception": false,
     "start_time": "2024-05-09T18:04:21.230952",
     "status": "completed"
    },
    "tags": []
   },
   "outputs": [
    {
     "data": {
      "text/plain": [
       "0       S\n",
       "1       C\n",
       "2       S\n",
       "3       S\n",
       "4       S\n",
       "       ..\n",
       "1304    S\n",
       "1305    C\n",
       "1306    S\n",
       "1307    S\n",
       "1308    C\n",
       "Name: Embarked, Length: 1309, dtype: object"
      ]
     },
     "execution_count": 4,
     "metadata": {},
     "output_type": "execute_result"
    }
   ],
   "source": [
    "# Fill NA's with the mode of Embarked\n",
    "td['Embarked'].fillna(td['Embarked'].mode()[0])"
   ]
  },
  {
   "cell_type": "markdown",
   "id": "b2862243",
   "metadata": {
    "papermill": {
     "duration": 0.007373,
     "end_time": "2024-05-09T18:04:21.272687",
     "exception": false,
     "start_time": "2024-05-09T18:04:21.265314",
     "status": "completed"
    },
    "tags": []
   },
   "source": [
    "## Age\n",
    "\n",
    "For the age column, we have many missing values, about 20% of the dataset. If we look at the boxplots below, we can see that age varies slightly depending on the passenger's class. Let's impute the median age for each class as our substitute values:"
   ]
  },
  {
   "cell_type": "code",
   "execution_count": 5,
   "id": "066c5c00",
   "metadata": {
    "execution": {
     "iopub.execute_input": "2024-05-09T18:04:21.290223Z",
     "iopub.status.busy": "2024-05-09T18:04:21.289727Z",
     "iopub.status.idle": "2024-05-09T18:04:21.818761Z",
     "shell.execute_reply": "2024-05-09T18:04:21.817242Z"
    },
    "papermill": {
     "duration": 0.541926,
     "end_time": "2024-05-09T18:04:21.822219",
     "exception": false,
     "start_time": "2024-05-09T18:04:21.280293",
     "status": "completed"
    },
    "tags": []
   },
   "outputs": [
    {
     "data": {
      "image/png": "[encoded data removed]",
      "text/plain": [
       "<Figure size 640x480 with 1 Axes>"
      ]
     },
     "metadata": {},
     "output_type": "display_data"
    },
    {
     "name": "stdout",
     "output_type": "stream",
     "text": [
      "<class 'pandas.core.frame.DataFrame'>\n",
      "RangeIndex: 1309 entries, 0 to 1308\n",
      "Data columns (total 12 columns):\n",
      " #   Column       Non-Null Count  Dtype  \n",
      "---  ------       --------------  -----  \n",
      " 0   PassengerId  1309 non-null   int64  \n",
      " 1   Survived     891 non-null    float64\n",
      " 2   Pclass       1309 non-null   int64  \n",
      " 3   Name         1309 non-null   object \n",
      " 4   Sex          1309 non-null   object \n",
      " 5   Age          1309 non-null   float64\n",
      " 6   SibSp        1309 non-null   int64  \n",
      " 7   Parch        1309 non-null   int64  \n",
      " 8   Ticket       1309 non-null   object \n",
      " 9   Fare         1308 non-null   float64\n",
      " 10  Cabin        1309 non-null   object \n",
      " 11  Embarked     1307 non-null   object \n",
      "dtypes: float64(3), int64(4), object(5)\n",
      "memory usage: 122.8+ KB\n",
      "None\n"
     ]
    }
   ],
   "source": [
    "# Plot Age by passenger class\n",
    "sns.boxplot(data = td, x = 'Pclass', y = 'Age')\n",
    "plt.title(\"Age vs. Passenger Class\")\n",
    "plt.xlabel(\"Passenger Class\")\n",
    "plt.ylabel(\"Age\")\n",
    "plt.show()\n",
    "\n",
    "# Update each class' age\n",
    "classes = [1, 2, 3]\n",
    "for c in classes:\n",
    "  med = td[td['Pclass'] == c]['Age'].median()\n",
    "  td.loc[td['Pclass'] == c, 'Age'] = td.loc[td['Pclass'] == c, 'Age'].fillna(med)\n",
    "\n",
    "# Check for missing values\n",
    "print(td.info())"
   ]
  },
  {
   "cell_type": "markdown",
   "id": "f1d228c5",
   "metadata": {
    "papermill": {
     "duration": 0.00781,
     "end_time": "2024-05-09T18:04:21.838204",
     "exception": false,
     "start_time": "2024-05-09T18:04:21.830394",
     "status": "completed"
    },
    "tags": []
   },
   "source": [
    "# Section 2 - Exploratory Data Analysis\n",
    "\n",
    "Now that our data is tidy, we can begin some exploratory analysis. The goal of our ML model is to predict which passengers will survive the Titanic disaster. In order to do this, we must determine which features are most predictive of a passenger's survivability. We will start by making some hypotheses about features that could affect a passenger's survival:\n",
    "\n",
    "- `Sex`: During the Titanic disaster, women evacuated before men did. If a passenger was a woman, we can predict they're more likely to survive.\n",
    "- `Age`: Similar to women, children were also evacuated before men did. If a passenger was young, we can predict they're more likely to survive.\n",
    "- `Pclass`: The higher a passenger's class, the more expensive of a ticket they had and the higher room they had on the ship. When the ship began to sink, passengers near the top could evacuate first, so higher class passengers had an advantage. It's likely that higher class passengers were more likely to survive.\n",
    "- `SibSp` and `Parch`: The higher amount of siblings/parents/children a passenger had, the larger their family was. A family is less likely to be willing to leave without each other, so it's possible that larger families were less likely to survive.\n",
    "\n",
    "Now we will go feature by feature and explore their correlations (or lack thereof) to `Survived`.\n",
    "\n",
    "## Sex\n",
    "\n",
    "Let's start by looking at the proportion of males and females that survived the Titanic:"
   ]
  },
  {
   "cell_type": "code",
   "execution_count": 6,
   "id": "1a5753e3",
   "metadata": {
    "execution": {
     "iopub.execute_input": "2024-05-09T18:04:21.858336Z",
     "iopub.status.busy": "2024-05-09T18:04:21.857888Z",
     "iopub.status.idle": "2024-05-09T18:04:22.304713Z",
     "shell.execute_reply": "2024-05-09T18:04:22.303479Z"
    },
    "papermill": {
     "duration": 0.461337,
     "end_time": "2024-05-09T18:04:22.307633",
     "exception": false,
     "start_time": "2024-05-09T18:04:21.846296",
     "status": "completed"
    },
    "tags": []
   },
   "outputs": [
    {
     "data": {
      "image/png": "[encoded data removed]",
      "text/plain": [
       "<Figure size 640x480 with 1 Axes>"
      ]
     },
     "metadata": {},
     "output_type": "display_data"
    },
    {
     "name": "stdout",
     "output_type": "stream",
     "text": [
      "Percentage of males who survived: 12.93%\n",
      "Percentage of females who survived: 50.00%\n"
     ]
    }
   ],
   "source": [
    "# Barplot of Survived vs. Sex\n",
    "sns.barplot(data = td, x = 'Sex', y = 'Survived')\n",
    "plt.title(\"Proportion of Survival by Sex\")\n",
    "plt.ylabel(\"Survival Proportion\")\n",
    "plt.show()\n",
    "\n",
    "# Print off proportions of survivors for each sex\n",
    "for sex in ['male', 'female']:\n",
    "  total_sex = len(td[td['Sex'] == sex])\n",
    "  survived_sex = len(td[(td['Sex'] == sex) & (td['Survived'] == 1)])\n",
    "  proportion = survived_sex / total_sex * 100  # Convert proportion to percentage\n",
    "  print(f\"Percentage of {sex}s who survived: {proportion:.2f}%\")"
   ]
  },
  {
   "cell_type": "markdown",
   "id": "2fc92022",
   "metadata": {
    "papermill": {
     "duration": 0.00838,
     "end_time": "2024-05-09T18:04:22.325055",
     "exception": false,
     "start_time": "2024-05-09T18:04:22.316675",
     "status": "completed"
    },
    "tags": []
   },
   "source": [
    "From the above analysis, we can see that there is a stark difference between the survivability of males vs. females. This means that age will be an important feature in our machine learning model.\n",
    "\n",
    "## Age\n",
    "\n",
    "Similar to females, children were some of the first passengers to be evacuated. Since age is a continuous variable, let's look at boxplots of the ages for survivors vs. non-survivors:"
   ]
  },
  {
   "cell_type": "code",
   "execution_count": 7,
   "id": "76ad6612",
   "metadata": {
    "execution": {
     "iopub.execute_input": "2024-05-09T18:04:22.345439Z",
     "iopub.status.busy": "2024-05-09T18:04:22.344564Z",
     "iopub.status.idle": "2024-05-09T18:04:22.670393Z",
     "shell.execute_reply": "2024-05-09T18:04:22.668607Z"
    },
    "papermill": {
     "duration": 0.342867,
     "end_time": "2024-05-09T18:04:22.676581",
     "exception": false,
     "start_time": "2024-05-09T18:04:22.333714",
     "status": "completed"
    },
    "tags": []
   },
   "outputs": [
    {
     "data": {
      "image/png": "[encoded data removed]",
      "text/plain": [
       "<Figure size 640x480 with 1 Axes>"
      ]
     },
     "metadata": {},
     "output_type": "display_data"
    },
    {
     "name": "stdout",
     "output_type": "stream",
     "text": [
      "               mean  median       std\n",
      "Survived                             \n",
      "0.0       29.618397    25.0  12.81681\n",
      "1.0       28.355760    27.0  13.99973\n"
     ]
    }
   ],
   "source": [
    "# Boxplot of ages for survivors vs. non-survivors\n",
    "sns.boxplot(data = td, x = 'Survived', y = 'Age')\n",
    "plt.title(\"Distributions of Age for Survivors vs. Non-Survivors\")\n",
    "plt.xlabel(\"Survived (0 = No, 1 = Yes)\")\n",
    "plt.show()\n",
    "\n",
    "# Print off summary statistics for age for survivors vs. non-survivors\n",
    "print(td.groupby('Survived')['Age'].agg(['mean', 'median', 'std']))"
   ]
  },
  {
   "cell_type": "markdown",
   "id": "f24b19b6",
   "metadata": {
    "papermill": {
     "duration": 0.01199,
     "end_time": "2024-05-09T18:04:22.698541",
     "exception": false,
     "start_time": "2024-05-09T18:04:22.686551",
     "status": "completed"
    },
    "tags": []
   },
   "source": [
    "Looking at the above boxplots and statistics, we can see that Age actually doesn't have a noticeable correlation with a passenger's survivability. This could partially be due to our data imputation from earlier, so it's important to keep this in mind when creating our model. We can try a couple different models, both with and without Age to see which works better for the testing data.\n",
    "\n",
    "## Pclass\n",
    "\n",
    "As we discussed earlier, a passenger's class (1st being the highest, 3rd being the lowest) also has a bearing on where the passenger's cabin was on the ship. 3rd class passengers often had cabins on the lower floors of the ship, while 1st class passengers had cabins on the upper floors. Passengers on the upper floors would have been able to escape more quickly, so let's see if this hypothesis holds up with the data:"
   ]
  },
  {
   "cell_type": "code",
   "execution_count": 8,
   "id": "de4ef206",
   "metadata": {
    "execution": {
     "iopub.execute_input": "2024-05-09T18:04:22.731138Z",
     "iopub.status.busy": "2024-05-09T18:04:22.729436Z",
     "iopub.status.idle": "2024-05-09T18:04:23.126798Z",
     "shell.execute_reply": "2024-05-09T18:04:23.125706Z"
    },
    "papermill": {
     "duration": 0.415909,
     "end_time": "2024-05-09T18:04:23.130988",
     "exception": false,
     "start_time": "2024-05-09T18:04:22.715079",
     "status": "completed"
    },
    "tags": []
   },
   "outputs": [
    {
     "data": {
      "image/png": "[encoded data removed]",
      "text/plain": [
       "<Figure size 640x480 with 1 Axes>"
      ]
     },
     "metadata": {},
     "output_type": "display_data"
    },
    {
     "name": "stdout",
     "output_type": "stream",
     "text": [
      "Percentage of Class 1 who survived: 42.11%\n",
      "Percentage of Class 2 who survived: 31.41%\n",
      "Percentage of Class 3 who survived: 16.78%\n"
     ]
    }
   ],
   "source": [
    "# Count plot of Survived colored by Pclass\n",
    "sns.countplot(data = td, x = 'Survived', hue = 'Pclass')\n",
    "plt.title(\"Number of Survivors by Passenger Class\")\n",
    "plt.xlabel(\"Survived (0 = no, 1 = yes)\")\n",
    "plt.ylabel(\"Number of Survivors\")\n",
    "plt.legend(labels = [\"3rd Class\", \"2nd Class\", \"1st Class\"])\n",
    "plt.show() # TODO: Maybe change the y-axis to show survival proportion?\n",
    "\n",
    "# Print off survival percentages for each class\n",
    "for pclass in [1, 2, 3]:\n",
    "  surv = len(td[(td['Survived'] == 1) & (td['Pclass'] == pclass)])\n",
    "  total = len(td[td['Pclass'] == pclass])\n",
    "  percentage = (surv / total) * 100\n",
    "  print(f\"Percentage of Class {pclass} who survived: {percentage:.2f}%\")"
   ]
  },
  {
   "cell_type": "markdown",
   "id": "a0f0390f",
   "metadata": {
    "papermill": {
     "duration": 0.010109,
     "end_time": "2024-05-09T18:04:23.152290",
     "exception": false,
     "start_time": "2024-05-09T18:04:23.142181",
     "status": "completed"
    },
    "tags": []
   },
   "source": [
    "From the above plot and statistics, we can see that there is a clear difference in survivability for each passenger class. About 42% of 1st class passengers survived, while only about 17% of 1st class passengers survived. Since there is a clear pattern here, we will use `Pclass` in our machine learning model.\n",
    "\n",
    "## SibSp/Parch\n",
    "\n",
    "If a passenger boarded the Titanic with a large family, they are less likely to survive because they have more family members to worry about. To test this theory, let's create a new column in the dataset that combines the `SibSp` and `Parch` columns to get a total family size. Then, we'll look at boxplots of the family sizes for survivors vs. non-survivors:"
   ]
  },
  {
   "cell_type": "code",
   "execution_count": 9,
   "id": "430bc5ec",
   "metadata": {
    "execution": {
     "iopub.execute_input": "2024-05-09T18:04:23.177719Z",
     "iopub.status.busy": "2024-05-09T18:04:23.176387Z",
     "iopub.status.idle": "2024-05-09T18:04:23.496778Z",
     "shell.execute_reply": "2024-05-09T18:04:23.494658Z"
    },
    "papermill": {
     "duration": 0.337101,
     "end_time": "2024-05-09T18:04:23.500159",
     "exception": false,
     "start_time": "2024-05-09T18:04:23.163058",
     "status": "completed"
    },
    "tags": []
   },
   "outputs": [
    {
     "data": {
      "image/png": "[encoded data removed]",
      "text/plain": [
       "<Figure size 640x480 with 1 Axes>"
      ]
     },
     "metadata": {},
     "output_type": "display_data"
    },
    {
     "name": "stdout",
     "output_type": "stream",
     "text": [
      "              mean  median       std\n",
      "Survived                            \n",
      "0.0       0.883424     0.0  1.830669\n",
      "1.0       0.938596     1.0  1.186076\n"
     ]
    }
   ],
   "source": [
    "# Create \"Family\" feature by adding SibSp and Parch\n",
    "td['Family'] = td['SibSp'] + td['Parch']\n",
    "\n",
    "# Create boxplots of family size for survivors vs. non-survivors\n",
    "sns.boxplot(data = td, x = 'Survived', y = 'Family')\n",
    "plt.title(\"Distribution of Family Sizes for Survivors vs. Non-Survivors\")\n",
    "plt.xlabel(\"Survived (0 = no, 1 = yes)\")\n",
    "plt.ylabel(\"Family Size\")\n",
    "plt.show()\n",
    "\n",
    "# Print off summary statistics for survivors vs. non-survivors\n",
    "print(td.groupby('Survived')['Family'].agg(['mean', 'median', 'std']))"
   ]
  },
  {
   "cell_type": "markdown",
   "id": "035337fd",
   "metadata": {
    "papermill": {
     "duration": 0.01215,
     "end_time": "2024-05-09T18:04:23.526081",
     "exception": false,
     "start_time": "2024-05-09T18:04:23.513931",
     "status": "completed"
    },
    "tags": []
   },
   "source": [
    "Looking at the above results, it seems the opposite of our earlier hypothesis may be correct. The non-survivors often had smaller family sizes than the survivors. This could be due to families being prioritized first with the only member staying behind being the father, while individuals were less likely to be prioritized. Regardless, both features will be helpful to our machine learning model.\n",
    "\n",
    "# Section 3 - Creating Machine Learning Model\n",
    "\n",
    "For our machine learning model, we need to use a model for a classification problem. We need to classify an observation as a survivor or non-survivor. Based on our analyses above, we will use four features in our model: `Sex`, `Pclass`, `SibSp`, and `Parch`. For our model, we will use a Random Forest classifier with 100 trees. Before creating a finalized model, let's split our training data and run some model validations to see what the optimal parameters are for our model:"
   ]
  },
  {
   "cell_type": "code",
   "execution_count": 10,
   "id": "cfd6d42b",
   "metadata": {
    "execution": {
     "iopub.execute_input": "2024-05-09T18:04:23.553515Z",
     "iopub.status.busy": "2024-05-09T18:04:23.551991Z",
     "iopub.status.idle": "2024-05-09T18:04:38.217332Z",
     "shell.execute_reply": "2024-05-09T18:04:38.214829Z"
    },
    "papermill": {
     "duration": 14.682983,
     "end_time": "2024-05-09T18:04:38.220958",
     "exception": false,
     "start_time": "2024-05-09T18:04:23.537975",
     "status": "completed"
    },
    "tags": []
   },
   "outputs": [
    {
     "name": "stdout",
     "output_type": "stream",
     "text": [
      "MAE for 10 estimators and a max depth of 4: 0.23766816143497757\n",
      "MAE for 10 estimators and a max depth of 5: 0.2242152466367713\n",
      "MAE for 10 estimators and a max depth of 6: 0.23766816143497757\n",
      "MAE for 100 estimators and a max depth of 4: 0.2242152466367713\n",
      "MAE for 100 estimators and a max depth of 5: 0.22869955156950672\n",
      "MAE for 100 estimators and a max depth of 6: 0.25112107623318386\n",
      "MAE for 500 estimators and a max depth of 4: 0.2242152466367713\n",
      "MAE for 500 estimators and a max depth of 5: 0.22869955156950672\n",
      "MAE for 500 estimators and a max depth of 6: 0.242152466367713\n",
      "MAE for 1000 estimators and a max depth of 4: 0.2242152466367713\n",
      "MAE for 1000 estimators and a max depth of 5: 0.22869955156950672\n",
      "MAE for 1000 estimators and a max depth of 6: 0.242152466367713\n",
      "Your submission was successfully saved!\n"
     ]
    }
   ],
   "source": [
    "# Import ML \n",
    "from sklearn.ensemble import RandomForestClassifier\n",
    "from sklearn.model_selection import train_test_split\n",
    "from sklearn.metrics import mean_absolute_error\n",
    "\n",
    "# Set prediction target\n",
    "y = train[\"Survived\"]\n",
    "\n",
    "# Get dummies for selected features\n",
    "features = [\"Pclass\", \"Sex\", \"SibSp\", \"Parch\"]\n",
    "X = pd.get_dummies(train[features])\n",
    "\n",
    "# Split training data\n",
    "train_X, test_X, train_y, test_y = train_test_split(X, y)\n",
    "\n",
    "# Test different parameter values\n",
    "for estimators in [10, 100, 500, 1000]:\n",
    "    for depth in [4, 5, 6]:\n",
    "        model = RandomForestClassifier(n_estimators = estimators, max_depth = depth, random_state = 1)\n",
    "        model.fit(train_X, train_y)\n",
    "        predictions = model.predict(test_X)\n",
    "        mae = mean_absolute_error(predictions, test_y)\n",
    "        print(\"MAE for \" + str(estimators) + \" estimators and a max depth of \" + str(depth) + \": \" + str(mae))\n",
    "\n",
    "# Create random forest model with 500 estimators and a max depth of 4\n",
    "model = RandomForestClassifier(n_estimators=500, max_depth=4, random_state=1)\n",
    "model.fit(X, y)\n",
    "X_test = pd.get_dummies(test[features])\n",
    "predictions = model.predict(X_test)\n",
    "\n",
    "# Output predictions into submission.csv\n",
    "output = pd.DataFrame({'PassengerId': test.PassengerId, 'Survived': predictions})\n",
    "output.to_csv('submission.csv', index=False)\n",
    "print(\"Your submission was successfully saved!\")"
   ]
  }
 ],
 "metadata": {
  "kaggle": {
   "accelerator": "none",
   "dataSources": [
    {
     "databundleVersionId": 26502,
     "sourceId": 3136,
     "sourceType": "competition"
    },
    {
     "datasetId": 4832207,
     "sourceId": 8166165,
     "sourceType": "datasetVersion"
    }
   ],
   "dockerImageVersionId": 30684,
   "isGpuEnabled": false,
   "isInternetEnabled": false,
   "language": "python",
   "sourceType": "notebook"
  },
  "kernelspec": {
   "display_name": "Python 3",
   "language": "python",
   "name": "python3"
  },
  "language_info": {
   "codemirror_mode": {
    "name": "ipython",
    "version": 3
   },
   "file_extension": ".py",
   "mimetype": "text/x-python",
   "name": "python",
   "nbconvert_exporter": "python",
   "pygments_lexer": "ipython3",
   "version": "3.10.13"
  },
  "papermill": {
   "default_parameters": {},
   "duration": 25.013944,
   "end_time": "2024-05-09T18:04:39.263910",
   "environment_variables": {},
   "exception": null,
   "input_path": "__notebook__.ipynb",
   "output_path": "__notebook__.ipynb",
   "parameters": {},
   "start_time": "2024-05-09T18:04:14.249966",
   "version": "2.5.0"
  }
 },
 "nbformat": 4,
 "nbformat_minor": 5
}
