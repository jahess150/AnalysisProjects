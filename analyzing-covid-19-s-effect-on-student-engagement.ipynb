{
 "cells": [
  {
   "cell_type": "markdown",
   "id": "33186abe",
   "metadata": {
    "papermill": {
     "duration": 0.004716,
     "end_time": "2024-05-13T14:50:15.341682",
     "exception": false,
     "start_time": "2024-05-13T14:50:15.336966",
     "status": "completed"
    },
    "tags": []
   },
   "source": [
    "# Analyzing COVID-19's Effect on Student Engagement for Online Schooling\n",
    "### Joshua Hess\n",
    "\n",
    "**TODO:** Draft an introduction talking about how COVID affected online education. Introduce the project, and talk about what will be explored.\n",
    "\n",
    "Now, let's load in a few of our datasets and take an initial look at them:"
   ]
  },
  {
   "cell_type": "code",
   "execution_count": 1,
   "id": "667ff053",
   "metadata": {
    "execution": {
     "iopub.execute_input": "2024-05-13T14:50:15.352816Z",
     "iopub.status.busy": "2024-05-13T14:50:15.352073Z",
     "iopub.status.idle": "2024-05-13T14:50:18.242630Z",
     "shell.execute_reply": "2024-05-13T14:50:18.241486Z"
    },
    "papermill": {
     "duration": 2.899106,
     "end_time": "2024-05-13T14:50:18.245458",
     "exception": false,
     "start_time": "2024-05-13T14:50:15.346352",
     "status": "completed"
    },
    "tags": []
   },
   "outputs": [
    {
     "name": "stdout",
     "output_type": "stream",
     "text": [
      "Districts Dataset:\n",
      "\n",
      "   district_id     state  locale pct_black/hispanic pct_free/reduced  \\\n",
      "0         8815  Illinois  Suburb           [0, 0.2[         [0, 0.2[   \n",
      "1         2685       NaN     NaN                NaN              NaN   \n",
      "2         4921      Utah  Suburb           [0, 0.2[       [0.2, 0.4[   \n",
      "3         3188       NaN     NaN                NaN              NaN   \n",
      "4         2238       NaN     NaN                NaN              NaN   \n",
      "\n",
      "  county_connections_ratio    pp_total_raw  \n",
      "0                [0.18, 1[  [14000, 16000[  \n",
      "1                      NaN             NaN  \n",
      "2                [0.18, 1[    [6000, 8000[  \n",
      "3                      NaN             NaN  \n",
      "4                      NaN             NaN  \n",
      "<class 'pandas.core.frame.DataFrame'>\n",
      "RangeIndex: 233 entries, 0 to 232\n",
      "Data columns (total 7 columns):\n",
      " #   Column                    Non-Null Count  Dtype \n",
      "---  ------                    --------------  ----- \n",
      " 0   district_id               233 non-null    int64 \n",
      " 1   state                     176 non-null    object\n",
      " 2   locale                    176 non-null    object\n",
      " 3   pct_black/hispanic        176 non-null    object\n",
      " 4   pct_free/reduced          148 non-null    object\n",
      " 5   county_connections_ratio  162 non-null    object\n",
      " 6   pp_total_raw              118 non-null    object\n",
      "dtypes: int64(1), object(6)\n",
      "memory usage: 12.9+ KB\n",
      "None\n",
      "\n",
      "Products Dataset:\n",
      "\n",
      "   LP ID                           URL  Product Name  Provider/Company Name  \\\n",
      "0  13117    https://www.splashmath.com   SplashLearn          StudyPad Inc.   \n",
      "1  66933          https://abcmouse.com  ABCmouse.com  Age of Learning, Inc    \n",
      "2  50479         https://www.abcya.com        ABCya!         ABCya.com, LLC   \n",
      "3  92993         http://www.aleks.com/         ALEKS    McGraw-Hill PreK-12   \n",
      "4  73104  https://www.achieve3000.com/   Achieve3000            Achieve3000   \n",
      "\n",
      "            Sector(s)                         Primary Essential Function  \n",
      "0             PreK-12                    LC - Digital Learning Platforms  \n",
      "1             PreK-12                    LC - Digital Learning Platforms  \n",
      "2             PreK-12  LC - Sites, Resources & Reference - Games & Si...  \n",
      "3  PreK-12; Higher Ed                    LC - Digital Learning Platforms  \n",
      "4             PreK-12                    LC - Digital Learning Platforms  \n",
      "<class 'pandas.core.frame.DataFrame'>\n",
      "RangeIndex: 372 entries, 0 to 371\n",
      "Data columns (total 6 columns):\n",
      " #   Column                      Non-Null Count  Dtype \n",
      "---  ------                      --------------  ----- \n",
      " 0   LP ID                       372 non-null    int64 \n",
      " 1   URL                         372 non-null    object\n",
      " 2   Product Name                372 non-null    object\n",
      " 3   Provider/Company Name       371 non-null    object\n",
      " 4   Sector(s)                   352 non-null    object\n",
      " 5   Primary Essential Function  352 non-null    object\n",
      "dtypes: int64(1), object(5)\n",
      "memory usage: 17.6+ KB\n",
      "None\n"
     ]
    }
   ],
   "source": [
    "# Import libraries\n",
    "import numpy as np\n",
    "import pandas as pd\n",
    "import matplotlib.pyplot as plt\n",
    "import seaborn as sns\n",
    "\n",
    "# Import districts and products info\n",
    "districts = pd.read_csv('/kaggle/input/learnplatform-covid19-impact-on-digital-learning/districts_info.csv')\n",
    "products = pd.read_csv('/kaggle/input/learnplatform-covid19-impact-on-digital-learning/products_info.csv')\n",
    "\n",
    "# Print out basic information\n",
    "print(\"Districts Dataset:\\n\")\n",
    "print(districts.head(5))\n",
    "print(districts.info())\n",
    "\n",
    "print(\"\\nProducts Dataset:\\n\")\n",
    "print(products.head(5))\n",
    "print(products.info())"
   ]
  },
  {
   "cell_type": "markdown",
   "id": "84ae752f",
   "metadata": {
    "papermill": {
     "duration": 0.003793,
     "end_time": "2024-05-13T14:50:18.253462",
     "exception": false,
     "start_time": "2024-05-13T14:50:18.249669",
     "status": "completed"
    },
    "tags": []
   },
   "source": [
    "Before we can begin a proper analysis, we need to organize our data together. In the `engagement_data` folder, we have `.csv` files of every district, with the district's number being the name of the file. Let's combine all of these CSV's into one overall DataFrame. As we add the data, we'll add an additional column named `district_id` that contains the ID of the district for that particular observation:"
   ]
  },
  {
   "cell_type": "code",
   "execution_count": 2,
   "id": "8628a919",
   "metadata": {
    "execution": {
     "iopub.execute_input": "2024-05-13T14:50:18.263178Z",
     "iopub.status.busy": "2024-05-13T14:50:18.262816Z",
     "iopub.status.idle": "2024-05-13T14:50:39.847120Z",
     "shell.execute_reply": "2024-05-13T14:50:39.845842Z"
    },
    "papermill": {
     "duration": 21.59255,
     "end_time": "2024-05-13T14:50:39.849966",
     "exception": false,
     "start_time": "2024-05-13T14:50:18.257416",
     "status": "completed"
    },
    "tags": []
   },
   "outputs": [
    {
     "name": "stdout",
     "output_type": "stream",
     "text": [
      "         time    lp_id  pct_access  engagement_index district_id\n",
      "0  2020-01-01  92844.0        0.01              0.68        6345\n",
      "1  2020-01-01  64838.0        0.01              0.68        6345\n",
      "2  2020-01-01  94058.0        0.00               NaN        6345\n",
      "3  2020-01-01  26488.0        0.03             26.21        6345\n",
      "4  2020-01-01  32340.0        0.01              0.11        6345\n",
      "5  2020-01-01  95731.0        0.20             40.96        6345\n",
      "6  2020-01-01  92918.0        0.01              4.54        6345\n",
      "7  2020-01-01  17307.0        0.00               NaN        6345\n",
      "8  2020-01-01  96255.0        0.01              0.11        6345\n",
      "9  2020-01-01  83862.0        0.01              0.11        6345\n",
      "<class 'pandas.core.frame.DataFrame'>\n",
      "Index: 22324190 entries, 0 to 41427\n",
      "Data columns (total 5 columns):\n",
      " #   Column            Dtype  \n",
      "---  ------            -----  \n",
      " 0   time              object \n",
      " 1   lp_id             float64\n",
      " 2   pct_access        float64\n",
      " 3   engagement_index  float64\n",
      " 4   district_id       object \n",
      "dtypes: float64(3), object(2)\n",
      "memory usage: 1021.9+ MB\n",
      "None\n"
     ]
    }
   ],
   "source": [
    "# Import libraries for file management\n",
    "import os\n",
    "import glob\n",
    "\n",
    "# Add all engagement_data CSV's into a list\n",
    "filepath = \"/kaggle/input/learnplatform-covid19-impact-on-digital-learning/engagement_data\"\n",
    "files = glob.glob(filepath + \"/*.csv\")\n",
    "\n",
    "# Initialize empty list to hold all engagement_data DataFrames\n",
    "data = []\n",
    "\n",
    "# For each CSV in 'files', add it to the 'data' list and create a new column 'district_id'\n",
    "for file in files:\n",
    "    df = pd.read_csv(file)  # Read in DataFrame\n",
    "    filename = os.path.splitext(file)  # # Split filename and extension\n",
    "    df['district_id'] = os.path.basename(filename[0])  # Extract district ID from CSV filename tuple\n",
    "    data.append(df)  # Add new column to new list\n",
    "\n",
    "# Concatenate all DataFrames into one 'engagement_data' DataFrame\n",
    "engagement_data = pd.concat(data)\n",
    "print(engagement_data.head(10))\n",
    "print(engagement_data.info())"
   ]
  },
  {
   "cell_type": "markdown",
   "id": "e38474d1",
   "metadata": {
    "papermill": {
     "duration": 0.004139,
     "end_time": "2024-05-13T14:50:39.858643",
     "exception": false,
     "start_time": "2024-05-13T14:50:39.854504",
     "status": "completed"
    },
    "tags": []
   },
   "source": [
    "Now we must clean up our data. Let's begin with our `engagement_data` table. First, let's check how many missing values are in each column:"
   ]
  },
  {
   "cell_type": "code",
   "execution_count": 3,
   "id": "6fb15a58",
   "metadata": {
    "execution": {
     "iopub.execute_input": "2024-05-13T14:50:39.869292Z",
     "iopub.status.busy": "2024-05-13T14:50:39.868879Z",
     "iopub.status.idle": "2024-05-13T14:50:44.835339Z",
     "shell.execute_reply": "2024-05-13T14:50:44.833817Z"
    },
    "papermill": {
     "duration": 4.975162,
     "end_time": "2024-05-13T14:50:44.838169",
     "exception": false,
     "start_time": "2024-05-13T14:50:39.863007",
     "status": "completed"
    },
    "tags": []
   },
   "outputs": [
    {
     "name": "stdout",
     "output_type": "stream",
     "text": [
      "time                      0\n",
      "lp_id                   541\n",
      "pct_access            13447\n",
      "engagement_index    5378409\n",
      "district_id               0\n",
      "dtype: int64\n",
      "\n",
      "Number of observations with missing pct_access: 13447\n",
      "Number of missing values for engagement_index: 13447\n"
     ]
    }
   ],
   "source": [
    "# Print sum of all missing values\n",
    "print(engagement_data.isnull().sum())\n",
    "\n",
    "# Check if all observations with a missing value for 'pct_access' also has a missing value for 'engagement_index'\n",
    "missing_pct = engagement_data[engagement_data['pct_access'].isna()]\n",
    "print(\"\\nNumber of observations with missing pct_access: \" + str(len(missing_pct.index)))\n",
    "\n",
    "num_of_null_indexes = str(len(missing_pct[missing_pct['engagement_index'].isna()]))\n",
    "print(\"Number of missing values for engagement_index: \" + num_of_null_indexes)"
   ]
  },
  {
   "cell_type": "markdown",
   "id": "d8a92add",
   "metadata": {
    "papermill": {
     "duration": 0.004297,
     "end_time": "2024-05-13T14:50:44.847475",
     "exception": false,
     "start_time": "2024-05-13T14:50:44.843178",
     "status": "completed"
    },
    "tags": []
   },
   "source": [
    "Notice above that for every time we had a `pct_access` missing, our `engagement_index` was also missing. We can assume that if the `pct_access` is missing, students likely didn't use any learning products that day, which means that there was no `engagement_index` to be measured. For all of these observations, we'll replace both values with 0:"
   ]
  },
  {
   "cell_type": "code",
   "execution_count": 4,
   "id": "2d7e0656",
   "metadata": {
    "execution": {
     "iopub.execute_input": "2024-05-13T14:50:44.858198Z",
     "iopub.status.busy": "2024-05-13T14:50:44.857764Z",
     "iopub.status.idle": "2024-05-13T14:50:49.950741Z",
     "shell.execute_reply": "2024-05-13T14:50:49.949171Z"
    },
    "papermill": {
     "duration": 5.101732,
     "end_time": "2024-05-13T14:50:49.953682",
     "exception": false,
     "start_time": "2024-05-13T14:50:44.851950",
     "status": "completed"
    },
    "tags": []
   },
   "outputs": [
    {
     "name": "stdout",
     "output_type": "stream",
     "text": [
      "time                      0\n",
      "lp_id                   541\n",
      "pct_access                0\n",
      "engagement_index    5364962\n",
      "district_id               0\n",
      "dtype: int64\n"
     ]
    }
   ],
   "source": [
    "# Conditional statement for both 'engagement_index' and 'pct_access' being missing\n",
    "both_missing = (engagement_data['pct_access'].isna()) & (engagement_data['engagement_index'].isna())\n",
    "\n",
    "# Replace NA's in both columns with 0\n",
    "engagement_data.loc[both_missing, 'pct_access'] = engagement_data.loc[both_missing, 'pct_access'].fillna(0)\n",
    "engagement_data.loc[both_missing, 'engagement_index'] = engagement_data.loc[both_missing, 'engagement_index'].fillna(0)\n",
    "\n",
    "# Check missing values\n",
    "print(engagement_data.isna().sum())"
   ]
  },
  {
   "cell_type": "markdown",
   "id": "4cce7b4c",
   "metadata": {
    "papermill": {
     "duration": 0.004154,
     "end_time": "2024-05-13T14:50:49.962463",
     "exception": false,
     "start_time": "2024-05-13T14:50:49.958309",
     "status": "completed"
    },
    "tags": []
   },
   "source": [
    "For the time being, we'll fill in all other NA's with zero. For `lp_id`, we'll drop those observations because the rows with missing values for `lp_id` only make up about 0.0024% of the total dataset. "
   ]
  },
  {
   "cell_type": "code",
   "execution_count": 5,
   "id": "e3af4189",
   "metadata": {
    "execution": {
     "iopub.execute_input": "2024-05-13T14:50:49.973211Z",
     "iopub.status.busy": "2024-05-13T14:50:49.972835Z",
     "iopub.status.idle": "2024-05-13T14:51:02.820356Z",
     "shell.execute_reply": "2024-05-13T14:51:02.818856Z"
    },
    "papermill": {
     "duration": 12.856444,
     "end_time": "2024-05-13T14:51:02.823412",
     "exception": false,
     "start_time": "2024-05-13T14:50:49.966968",
     "status": "completed"
    },
    "tags": []
   },
   "outputs": [
    {
     "name": "stdout",
     "output_type": "stream",
     "text": [
      "time                0\n",
      "lp_id               0\n",
      "pct_access          0\n",
      "engagement_index    0\n",
      "district_id         0\n",
      "dtype: int64\n"
     ]
    }
   ],
   "source": [
    "# Drop rows where 'lp_id' is missing\n",
    "engagement_data = engagement_data.dropna(subset=['lp_id'])\n",
    "\n",
    "# Fill all other NA's with 0\n",
    "engagement_data = engagement_data.fillna(0)\n",
    "\n",
    "# Check the DataFrame to verify missing values are taken care of\n",
    "print(engagement_data.isna().sum())"
   ]
  }
 ],
 "metadata": {
  "kaggle": {
   "accelerator": "none",
   "dataSources": [
    {
     "databundleVersionId": 2511911,
     "sourceId": 26939,
     "sourceType": "competition"
    }
   ],
   "dockerImageVersionId": 30698,
   "isGpuEnabled": false,
   "isInternetEnabled": false,
   "language": "python",
   "sourceType": "notebook"
  },
  "kernelspec": {
   "display_name": "Python 3",
   "language": "python",
   "name": "python3"
  },
  "language_info": {
   "codemirror_mode": {
    "name": "ipython",
    "version": 3
   },
   "file_extension": ".py",
   "mimetype": "text/x-python",
   "name": "python",
   "nbconvert_exporter": "python",
   "pygments_lexer": "ipython3",
   "version": "3.10.13"
  },
  "papermill": {
   "default_parameters": {},
   "duration": 51.788935,
   "end_time": "2024-05-13T14:51:03.850603",
   "environment_variables": {},
   "exception": null,
   "input_path": "__notebook__.ipynb",
   "output_path": "__notebook__.ipynb",
   "parameters": {},
   "start_time": "2024-05-13T14:50:12.061668",
   "version": "2.5.0"
  }
 },
 "nbformat": 4,
 "nbformat_minor": 5
}
