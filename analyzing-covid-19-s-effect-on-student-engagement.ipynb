{
 "cells": [
  {
   "cell_type": "markdown",
   "id": "59a3a27a",
   "metadata": {
    "papermill": {
     "duration": 0.006438,
     "end_time": "2024-05-13T15:26:21.992113",
     "exception": false,
     "start_time": "2024-05-13T15:26:21.985675",
     "status": "completed"
    },
    "tags": []
   },
   "source": [
    "# Analyzing COVID-19's Effect on Student Engagement for Online Schooling\n",
    "### Joshua Hess\n",
    "\n",
    "**TODO:** Draft an introduction talking about how COVID affected online education. Introduce the project, and talk about what will be explored.\n",
    "\n",
    "Now, let's load in a few of our datasets and take an initial look at them:"
   ]
  },
  {
   "cell_type": "code",
   "execution_count": 1,
   "id": "69d5520a",
   "metadata": {
    "execution": {
     "iopub.execute_input": "2024-05-13T15:26:22.005687Z",
     "iopub.status.busy": "2024-05-13T15:26:22.005283Z",
     "iopub.status.idle": "2024-05-13T15:26:24.074158Z",
     "shell.execute_reply": "2024-05-13T15:26:24.072938Z"
    },
    "papermill": {
     "duration": 2.078686,
     "end_time": "2024-05-13T15:26:24.076734",
     "exception": false,
     "start_time": "2024-05-13T15:26:21.998048",
     "status": "completed"
    },
    "tags": []
   },
   "outputs": [
    {
     "name": "stdout",
     "output_type": "stream",
     "text": [
      "Districts Dataset:\n",
      "\n",
      "   district_id     state  locale pct_black/hispanic pct_free/reduced  \\\n",
      "0         8815  Illinois  Suburb           [0, 0.2[         [0, 0.2[   \n",
      "1         2685       NaN     NaN                NaN              NaN   \n",
      "2         4921      Utah  Suburb           [0, 0.2[       [0.2, 0.4[   \n",
      "3         3188       NaN     NaN                NaN              NaN   \n",
      "4         2238       NaN     NaN                NaN              NaN   \n",
      "\n",
      "  county_connections_ratio    pp_total_raw  \n",
      "0                [0.18, 1[  [14000, 16000[  \n",
      "1                      NaN             NaN  \n",
      "2                [0.18, 1[    [6000, 8000[  \n",
      "3                      NaN             NaN  \n",
      "4                      NaN             NaN  \n",
      "<class 'pandas.core.frame.DataFrame'>\n",
      "RangeIndex: 233 entries, 0 to 232\n",
      "Data columns (total 7 columns):\n",
      " #   Column                    Non-Null Count  Dtype \n",
      "---  ------                    --------------  ----- \n",
      " 0   district_id               233 non-null    int64 \n",
      " 1   state                     176 non-null    object\n",
      " 2   locale                    176 non-null    object\n",
      " 3   pct_black/hispanic        176 non-null    object\n",
      " 4   pct_free/reduced          148 non-null    object\n",
      " 5   county_connections_ratio  162 non-null    object\n",
      " 6   pp_total_raw              118 non-null    object\n",
      "dtypes: int64(1), object(6)\n",
      "memory usage: 12.9+ KB\n",
      "None\n",
      "\n",
      "Products Dataset:\n",
      "\n",
      "   LP ID                           URL  Product Name  Provider/Company Name  \\\n",
      "0  13117    https://www.splashmath.com   SplashLearn          StudyPad Inc.   \n",
      "1  66933          https://abcmouse.com  ABCmouse.com  Age of Learning, Inc    \n",
      "2  50479         https://www.abcya.com        ABCya!         ABCya.com, LLC   \n",
      "3  92993         http://www.aleks.com/         ALEKS    McGraw-Hill PreK-12   \n",
      "4  73104  https://www.achieve3000.com/   Achieve3000            Achieve3000   \n",
      "\n",
      "            Sector(s)                         Primary Essential Function  \n",
      "0             PreK-12                    LC - Digital Learning Platforms  \n",
      "1             PreK-12                    LC - Digital Learning Platforms  \n",
      "2             PreK-12  LC - Sites, Resources & Reference - Games & Si...  \n",
      "3  PreK-12; Higher Ed                    LC - Digital Learning Platforms  \n",
      "4             PreK-12                    LC - Digital Learning Platforms  \n",
      "<class 'pandas.core.frame.DataFrame'>\n",
      "RangeIndex: 372 entries, 0 to 371\n",
      "Data columns (total 6 columns):\n",
      " #   Column                      Non-Null Count  Dtype \n",
      "---  ------                      --------------  ----- \n",
      " 0   LP ID                       372 non-null    int64 \n",
      " 1   URL                         372 non-null    object\n",
      " 2   Product Name                372 non-null    object\n",
      " 3   Provider/Company Name       371 non-null    object\n",
      " 4   Sector(s)                   352 non-null    object\n",
      " 5   Primary Essential Function  352 non-null    object\n",
      "dtypes: int64(1), object(5)\n",
      "memory usage: 17.6+ KB\n",
      "None\n"
     ]
    }
   ],
   "source": [
    "# Import libraries\n",
    "import numpy as np\n",
    "import pandas as pd\n",
    "import matplotlib.pyplot as plt\n",
    "import seaborn as sns\n",
    "\n",
    "# Import districts and products info\n",
    "districts = pd.read_csv('/kaggle/input/learnplatform-covid19-impact-on-digital-learning/districts_info.csv')\n",
    "products = pd.read_csv('/kaggle/input/learnplatform-covid19-impact-on-digital-learning/products_info.csv')\n",
    "\n",
    "# Print out basic information\n",
    "print(\"Districts Dataset:\\n\")\n",
    "print(districts.head(5))\n",
    "print(districts.info())\n",
    "\n",
    "print(\"\\nProducts Dataset:\\n\")\n",
    "print(products.head(5))\n",
    "print(products.info())"
   ]
  },
  {
   "cell_type": "markdown",
   "id": "ebf22e1b",
   "metadata": {
    "papermill": {
     "duration": 0.005733,
     "end_time": "2024-05-13T15:26:24.088384",
     "exception": false,
     "start_time": "2024-05-13T15:26:24.082651",
     "status": "completed"
    },
    "tags": []
   },
   "source": [
    "## Aggregating and Cleaning Engagement Data\n",
    "\n",
    "Before we can begin a proper analysis, we need to organize our data together. In the `engagement_data` folder, we have `.csv` files of every district, with the district's number being the name of the file. Let's combine all of these CSV's into one overall DataFrame. As we add the data, we'll add an additional column named `district_id` that contains the ID of the district for that particular observation:"
   ]
  },
  {
   "cell_type": "code",
   "execution_count": 2,
   "id": "8c0ba4df",
   "metadata": {
    "execution": {
     "iopub.execute_input": "2024-05-13T15:26:24.101852Z",
     "iopub.status.busy": "2024-05-13T15:26:24.101458Z",
     "iopub.status.idle": "2024-05-13T15:26:46.826158Z",
     "shell.execute_reply": "2024-05-13T15:26:46.824919Z"
    },
    "papermill": {
     "duration": 22.734679,
     "end_time": "2024-05-13T15:26:46.828948",
     "exception": false,
     "start_time": "2024-05-13T15:26:24.094269",
     "status": "completed"
    },
    "tags": []
   },
   "outputs": [
    {
     "name": "stdout",
     "output_type": "stream",
     "text": [
      "         time    lp_id  pct_access  engagement_index district_id\n",
      "0  2020-01-01  92844.0        0.01              0.68        6345\n",
      "1  2020-01-01  64838.0        0.01              0.68        6345\n",
      "2  2020-01-01  94058.0        0.00               NaN        6345\n",
      "3  2020-01-01  26488.0        0.03             26.21        6345\n",
      "4  2020-01-01  32340.0        0.01              0.11        6345\n",
      "5  2020-01-01  95731.0        0.20             40.96        6345\n",
      "6  2020-01-01  92918.0        0.01              4.54        6345\n",
      "7  2020-01-01  17307.0        0.00               NaN        6345\n",
      "8  2020-01-01  96255.0        0.01              0.11        6345\n",
      "9  2020-01-01  83862.0        0.01              0.11        6345\n",
      "<class 'pandas.core.frame.DataFrame'>\n",
      "Index: 22324190 entries, 0 to 41427\n",
      "Data columns (total 5 columns):\n",
      " #   Column            Dtype  \n",
      "---  ------            -----  \n",
      " 0   time              object \n",
      " 1   lp_id             float64\n",
      " 2   pct_access        float64\n",
      " 3   engagement_index  float64\n",
      " 4   district_id       object \n",
      "dtypes: float64(3), object(2)\n",
      "memory usage: 1021.9+ MB\n",
      "None\n"
     ]
    }
   ],
   "source": [
    "# Import libraries for file management\n",
    "import os\n",
    "import glob\n",
    "\n",
    "# Add all engagement_data CSV's into a list\n",
    "filepath = \"/kaggle/input/learnplatform-covid19-impact-on-digital-learning/engagement_data\"\n",
    "files = glob.glob(filepath + \"/*.csv\")\n",
    "\n",
    "# Initialize empty list to hold all engagement_data DataFrames\n",
    "data = []\n",
    "\n",
    "# For each CSV in 'files', add it to the 'data' list and create a new column 'district_id'\n",
    "for file in files:\n",
    "    df = pd.read_csv(file)  # Read in DataFrame\n",
    "    filename = os.path.splitext(file)  # # Split filename and extension\n",
    "    df['district_id'] = os.path.basename(filename[0])  # Extract district ID from CSV filename tuple\n",
    "    data.append(df)  # Add new column to new list\n",
    "\n",
    "# Concatenate all DataFrames into one 'engagement_data' DataFrame\n",
    "engagement_data = pd.concat(data)\n",
    "print(engagement_data.head(10))\n",
    "print(engagement_data.info())"
   ]
  },
  {
   "cell_type": "markdown",
   "id": "6af89e49",
   "metadata": {
    "papermill": {
     "duration": 0.005852,
     "end_time": "2024-05-13T15:26:46.841355",
     "exception": false,
     "start_time": "2024-05-13T15:26:46.835503",
     "status": "completed"
    },
    "tags": []
   },
   "source": [
    "Now we must clean up our data. Let's begin with our `engagement_data` table. First, let's check how many missing values are in each column:"
   ]
  },
  {
   "cell_type": "code",
   "execution_count": 3,
   "id": "baf06364",
   "metadata": {
    "execution": {
     "iopub.execute_input": "2024-05-13T15:26:46.855400Z",
     "iopub.status.busy": "2024-05-13T15:26:46.855015Z",
     "iopub.status.idle": "2024-05-13T15:26:51.752627Z",
     "shell.execute_reply": "2024-05-13T15:26:51.751471Z"
    },
    "papermill": {
     "duration": 4.907902,
     "end_time": "2024-05-13T15:26:51.755299",
     "exception": false,
     "start_time": "2024-05-13T15:26:46.847397",
     "status": "completed"
    },
    "tags": []
   },
   "outputs": [
    {
     "name": "stdout",
     "output_type": "stream",
     "text": [
      "time                      0\n",
      "lp_id                   541\n",
      "pct_access            13447\n",
      "engagement_index    5378409\n",
      "district_id               0\n",
      "dtype: int64\n",
      "\n",
      "Number of observations with missing pct_access: 13447\n",
      "Number of missing values for engagement_index: 13447\n"
     ]
    }
   ],
   "source": [
    "# Print sum of all missing values\n",
    "print(engagement_data.isnull().sum())\n",
    "\n",
    "# Check if all observations with a missing value for 'pct_access' also has a missing value for 'engagement_index'\n",
    "missing_pct = engagement_data[engagement_data['pct_access'].isna()]\n",
    "print(\"\\nNumber of observations with missing pct_access: \" + str(len(missing_pct.index)))\n",
    "\n",
    "num_of_null_indexes = str(len(missing_pct[missing_pct['engagement_index'].isna()]))\n",
    "print(\"Number of missing values for engagement_index: \" + num_of_null_indexes)"
   ]
  },
  {
   "cell_type": "markdown",
   "id": "e4e0ab2b",
   "metadata": {
    "papermill": {
     "duration": 0.006056,
     "end_time": "2024-05-13T15:26:51.767393",
     "exception": false,
     "start_time": "2024-05-13T15:26:51.761337",
     "status": "completed"
    },
    "tags": []
   },
   "source": [
    "Notice above that for every time we had a `pct_access` missing, our `engagement_index` was also missing. We can assume that if the `pct_access` is missing, students likely didn't use any learning products that day, which means that there was no `engagement_index` to be measured. For all of these observations, we'll replace both values with 0:"
   ]
  },
  {
   "cell_type": "code",
   "execution_count": 4,
   "id": "ae35d78c",
   "metadata": {
    "execution": {
     "iopub.execute_input": "2024-05-13T15:26:51.781922Z",
     "iopub.status.busy": "2024-05-13T15:26:51.781395Z",
     "iopub.status.idle": "2024-05-13T15:26:56.696831Z",
     "shell.execute_reply": "2024-05-13T15:26:56.695551Z"
    },
    "papermill": {
     "duration": 4.925309,
     "end_time": "2024-05-13T15:26:56.699432",
     "exception": false,
     "start_time": "2024-05-13T15:26:51.774123",
     "status": "completed"
    },
    "tags": []
   },
   "outputs": [
    {
     "name": "stdout",
     "output_type": "stream",
     "text": [
      "time                      0\n",
      "lp_id                   541\n",
      "pct_access                0\n",
      "engagement_index    5364962\n",
      "district_id               0\n",
      "dtype: int64\n"
     ]
    }
   ],
   "source": [
    "# Conditional statement for both 'engagement_index' and 'pct_access' being missing\n",
    "both_missing = (engagement_data['pct_access'].isna()) & (engagement_data['engagement_index'].isna())\n",
    "\n",
    "# Replace NA's in both columns with 0\n",
    "engagement_data.loc[both_missing, 'pct_access'] = engagement_data.loc[both_missing, 'pct_access'].fillna(0)\n",
    "engagement_data.loc[both_missing, 'engagement_index'] = engagement_data.loc[both_missing, 'engagement_index'].fillna(0)\n",
    "\n",
    "# Check missing values\n",
    "print(engagement_data.isna().sum())"
   ]
  },
  {
   "cell_type": "markdown",
   "id": "fb71a0c0",
   "metadata": {
    "papermill": {
     "duration": 0.006139,
     "end_time": "2024-05-13T15:26:56.712033",
     "exception": false,
     "start_time": "2024-05-13T15:26:56.705894",
     "status": "completed"
    },
    "tags": []
   },
   "source": [
    "For the time being, we'll fill in all other NA's with zero. For `lp_id`, we'll drop those observations because the rows with missing values for `lp_id` only make up about 0.0024% of the total dataset. "
   ]
  },
  {
   "cell_type": "code",
   "execution_count": 5,
   "id": "b248b02d",
   "metadata": {
    "execution": {
     "iopub.execute_input": "2024-05-13T15:26:56.726332Z",
     "iopub.status.busy": "2024-05-13T15:26:56.725508Z",
     "iopub.status.idle": "2024-05-13T15:27:09.288718Z",
     "shell.execute_reply": "2024-05-13T15:27:09.287488Z"
    },
    "papermill": {
     "duration": 12.57347,
     "end_time": "2024-05-13T15:27:09.291624",
     "exception": false,
     "start_time": "2024-05-13T15:26:56.718154",
     "status": "completed"
    },
    "tags": []
   },
   "outputs": [
    {
     "name": "stdout",
     "output_type": "stream",
     "text": [
      "time                0\n",
      "lp_id               0\n",
      "pct_access          0\n",
      "engagement_index    0\n",
      "district_id         0\n",
      "dtype: int64\n"
     ]
    }
   ],
   "source": [
    "# Drop rows where 'lp_id' is missing\n",
    "engagement_data = engagement_data.dropna(subset=['lp_id'])\n",
    "\n",
    "# Fill all other NA's with 0\n",
    "engagement_data = engagement_data.fillna(0)\n",
    "\n",
    "# Check the DataFrame to verify missing values are taken care of\n",
    "print(engagement_data.isna().sum())"
   ]
  },
  {
   "cell_type": "markdown",
   "id": "6d3d2bd0",
   "metadata": {
    "papermill": {
     "duration": 0.006043,
     "end_time": "2024-05-13T15:27:09.304080",
     "exception": false,
     "start_time": "2024-05-13T15:27:09.298037",
     "status": "completed"
    },
    "tags": []
   },
   "source": [
    "## Cleaning District Info Data\n",
    "\n",
    "Now, we can move onto cleaning our other two DataFrames. Let's begin with `districts_info.csv`. First, let's get a quick glance at the DataFrame and see the number of missing values in each column:"
   ]
  },
  {
   "cell_type": "code",
   "execution_count": 6,
   "id": "3f04c895",
   "metadata": {
    "execution": {
     "iopub.execute_input": "2024-05-13T15:27:09.317931Z",
     "iopub.status.busy": "2024-05-13T15:27:09.317533Z",
     "iopub.status.idle": "2024-05-13T15:27:09.336058Z",
     "shell.execute_reply": "2024-05-13T15:27:09.334885Z"
    },
    "papermill": {
     "duration": 0.02862,
     "end_time": "2024-05-13T15:27:09.338804",
     "exception": false,
     "start_time": "2024-05-13T15:27:09.310184",
     "status": "completed"
    },
    "tags": []
   },
   "outputs": [
    {
     "name": "stdout",
     "output_type": "stream",
     "text": [
      "<class 'pandas.core.frame.DataFrame'>\n",
      "RangeIndex: 233 entries, 0 to 232\n",
      "Data columns (total 7 columns):\n",
      " #   Column                    Non-Null Count  Dtype \n",
      "---  ------                    --------------  ----- \n",
      " 0   district_id               233 non-null    int64 \n",
      " 1   state                     176 non-null    object\n",
      " 2   locale                    176 non-null    object\n",
      " 3   pct_black/hispanic        176 non-null    object\n",
      " 4   pct_free/reduced          148 non-null    object\n",
      " 5   county_connections_ratio  162 non-null    object\n",
      " 6   pp_total_raw              118 non-null    object\n",
      "dtypes: int64(1), object(6)\n",
      "memory usage: 12.9+ KB\n",
      "None\n",
      "district_id                   0\n",
      "state                        57\n",
      "locale                       57\n",
      "pct_black/hispanic           57\n",
      "pct_free/reduced             85\n",
      "county_connections_ratio     71\n",
      "pp_total_raw                115\n",
      "dtype: int64\n",
      "\n",
      "Value counts for pct_black/hispanic:\n",
      "\n",
      "pct_black/hispanic\n",
      "[0, 0.2[      116\n",
      "[0.2, 0.4[     24\n",
      "[0.4, 0.6[     17\n",
      "[0.6, 0.8[     11\n",
      "[0.8, 1[        8\n",
      "Name: count, dtype: int64\n",
      "\n",
      "Value counts for pct_free/reduced:\n",
      "\n",
      "pct_free/reduced\n",
      "[0.2, 0.4[    48\n",
      "[0, 0.2[      46\n",
      "[0.4, 0.6[    37\n",
      "[0.6, 0.8[    13\n",
      "[0.8, 1[       4\n",
      "Name: count, dtype: int64\n",
      "\n",
      "Value counts for county_connections_ratio:\n",
      "\n",
      "county_connections_ratio\n",
      "[0.18, 1[    161\n",
      "[1, 2[         1\n",
      "Name: count, dtype: int64\n",
      "\n",
      "Value counts for pp_total_raw:\n",
      "\n",
      "pp_total_raw\n",
      "[8000, 10000[     30\n",
      "[10000, 12000[    17\n",
      "[12000, 14000[    15\n",
      "[14000, 16000[    15\n",
      "[16000, 18000[    13\n",
      "[6000, 8000[      13\n",
      "[18000, 20000[     8\n",
      "[20000, 22000[     2\n",
      "[22000, 24000[     2\n",
      "[4000, 6000[       2\n",
      "[32000, 34000[     1\n",
      "Name: count, dtype: int64\n"
     ]
    }
   ],
   "source": [
    "# Print information on districts_info DataFrame\n",
    "print(districts.info())\n",
    "\n",
    "# Print missing values\n",
    "print(districts.isna().sum())\n",
    "\n",
    "# Print value_counts() for percent columns\n",
    "for column in ['pct_black/hispanic', 'pct_free/reduced', 'county_connections_ratio', 'pp_total_raw']:\n",
    "    print(\"\\nValue counts for \" + column + \":\\n\")\n",
    "    print(districts.value_counts(column))"
   ]
  },
  {
   "cell_type": "markdown",
   "id": "8ae3d4a9",
   "metadata": {
    "papermill": {
     "duration": 0.007122,
     "end_time": "2024-05-13T15:27:09.352321",
     "exception": false,
     "start_time": "2024-05-13T15:27:09.345199",
     "status": "completed"
    },
    "tags": []
   },
   "source": [
    "One thing to notice about the above output is that our percentages aren't formatted as specific numbers, but as ranges. This was done to protect the identity of individual school districts, so we can rename these ranges to make it more clear what each percentage is:"
   ]
  },
  {
   "cell_type": "code",
   "execution_count": 7,
   "id": "d8b44843",
   "metadata": {
    "execution": {
     "iopub.execute_input": "2024-05-13T15:27:09.367014Z",
     "iopub.status.busy": "2024-05-13T15:27:09.366044Z",
     "iopub.status.idle": "2024-05-13T15:27:09.384161Z",
     "shell.execute_reply": "2024-05-13T15:27:09.383035Z"
    },
    "papermill": {
     "duration": 0.028171,
     "end_time": "2024-05-13T15:27:09.386787",
     "exception": false,
     "start_time": "2024-05-13T15:27:09.358616",
     "status": "completed"
    },
    "tags": []
   },
   "outputs": [
    {
     "name": "stdout",
     "output_type": "stream",
     "text": [
      "   district_id     state  locale pct_black/hispanic pct_free/reduced  \\\n",
      "0         8815  Illinois  Suburb           0% - 20%         0% - 20%   \n",
      "1         2685       NaN     NaN                NaN              NaN   \n",
      "2         4921      Utah  Suburb           0% - 20%        20% - 40%   \n",
      "3         3188       NaN     NaN                NaN              NaN   \n",
      "4         2238       NaN     NaN                NaN              NaN   \n",
      "\n",
      "  county_connections_ratio pp_total_raw  \n",
      "0                 18%-100%      14k-16k  \n",
      "1                      NaN          NaN  \n",
      "2                 18%-100%        6k-8k  \n",
      "3                      NaN          NaN  \n",
      "4                      NaN          NaN  \n"
     ]
    }
   ],
   "source": [
    "# Create dictionaries for renaming\n",
    "blackhisp_freereduced_dict = {\n",
    "    '[0, 0.2[' : '0% - 20%',\n",
    "    '[0.2, 0.4[' : '20% - 40%',\n",
    "    '[0.4, 0.6[' : '40% - 60%',\n",
    "    '[0.6, 0.8[' : '60% - 80%',\n",
    "    '[0.8, 1.0[' : '80% - 100%'\n",
    "}\n",
    "\n",
    "raw_ppl_dict = {\n",
    "    '[8000, 10000[' : '8k-10k',\n",
    "    '[10000, 12000[' : '10k-12k',\n",
    "    '[12000, 14000[' : '12k-14k',\n",
    "    '[14000, 16000[' : '14k-16k',\n",
    "    '[16000, 18000[' : '16k-18k',\n",
    "    '[6000, 8000[' : '6k-8k',\n",
    "    '[18000, 20000[' : '18k-20k',\n",
    "    '[20000, 22000[' : '20k-22k',\n",
    "    '[22000, 24000[' : '22k-24k',\n",
    "    '[4000, 6000[' : '4k-6k',\n",
    "    '[32000, 34000[' : '32k-34k'\n",
    "}\n",
    "\n",
    "county_ratio_dict = {\n",
    "    '[0.18, 1[' : '18%-100%',\n",
    "    '[1, 2[' : '100%-200%'\n",
    "}\n",
    "\n",
    "# Rename all observations with dictionaries\n",
    "districts['pct_black/hispanic'] = districts['pct_black/hispanic'].replace(blackhisp_freereduced_dict)\n",
    "districts['pct_free/reduced'] = districts['pct_free/reduced'].replace(blackhisp_freereduced_dict)\n",
    "districts['pp_total_raw'] = districts['pp_total_raw'].replace(raw_ppl_dict)\n",
    "districts['county_connections_ratio'] = districts['county_connections_ratio'].replace(county_ratio_dict)\n",
    "\n",
    "# Check DataFrame\n",
    "print(districts.head())"
   ]
  },
  {
   "cell_type": "markdown",
   "id": "b5f607e7",
   "metadata": {
    "papermill": {
     "duration": 0.006509,
     "end_time": "2024-05-13T15:27:09.399805",
     "exception": false,
     "start_time": "2024-05-13T15:27:09.393296",
     "status": "completed"
    },
    "tags": []
   },
   "source": [
    "Unfortunately since the values of all of these columns depend strongly on the details of the school district, there's no reliable way to impute values for these columns. We can assume that this information was not reported when the data was being collected, so let's fill all NA values in this DataFrame with 'Not reported':"
   ]
  },
  {
   "cell_type": "code",
   "execution_count": 8,
   "id": "f37d4ca6",
   "metadata": {
    "execution": {
     "iopub.execute_input": "2024-05-13T15:27:09.414600Z",
     "iopub.status.busy": "2024-05-13T15:27:09.413866Z",
     "iopub.status.idle": "2024-05-13T15:27:09.426919Z",
     "shell.execute_reply": "2024-05-13T15:27:09.425871Z"
    },
    "papermill": {
     "duration": 0.023094,
     "end_time": "2024-05-13T15:27:09.429322",
     "exception": false,
     "start_time": "2024-05-13T15:27:09.406228",
     "status": "completed"
    },
    "tags": []
   },
   "outputs": [
    {
     "name": "stdout",
     "output_type": "stream",
     "text": [
      "<class 'pandas.core.frame.DataFrame'>\n",
      "RangeIndex: 233 entries, 0 to 232\n",
      "Data columns (total 7 columns):\n",
      " #   Column                    Non-Null Count  Dtype \n",
      "---  ------                    --------------  ----- \n",
      " 0   district_id               233 non-null    int64 \n",
      " 1   state                     233 non-null    object\n",
      " 2   locale                    233 non-null    object\n",
      " 3   pct_black/hispanic        233 non-null    object\n",
      " 4   pct_free/reduced          233 non-null    object\n",
      " 5   county_connections_ratio  233 non-null    object\n",
      " 6   pp_total_raw              233 non-null    object\n",
      "dtypes: int64(1), object(6)\n",
      "memory usage: 12.9+ KB\n",
      "None\n"
     ]
    }
   ],
   "source": [
    "# Fill all NA values with 'Not reported'\n",
    "districts = districts.fillna('Not reported')\n",
    "print(districts.info())  # Check DataFrame"
   ]
  },
  {
   "cell_type": "markdown",
   "id": "6e5b11db",
   "metadata": {
    "papermill": {
     "duration": 0.006199,
     "end_time": "2024-05-13T15:27:09.441983",
     "exception": false,
     "start_time": "2024-05-13T15:27:09.435784",
     "status": "completed"
    },
    "tags": []
   },
   "source": [
    "## Cleaning Educational Product Info\n",
    "\n",
    "TODO: Clean the last DataFrame."
   ]
  }
 ],
 "metadata": {
  "kaggle": {
   "accelerator": "none",
   "dataSources": [
    {
     "databundleVersionId": 2511911,
     "sourceId": 26939,
     "sourceType": "competition"
    }
   ],
   "dockerImageVersionId": 30698,
   "isGpuEnabled": false,
   "isInternetEnabled": false,
   "language": "python",
   "sourceType": "notebook"
  },
  "kernelspec": {
   "display_name": "Python 3",
   "language": "python",
   "name": "python3"
  },
  "language_info": {
   "codemirror_mode": {
    "name": "ipython",
    "version": 3
   },
   "file_extension": ".py",
   "mimetype": "text/x-python",
   "name": "python",
   "nbconvert_exporter": "python",
   "pygments_lexer": "ipython3",
   "version": "3.10.13"
  },
  "papermill": {
   "default_parameters": {},
   "duration": 51.411046,
   "end_time": "2024-05-13T15:27:10.470425",
   "environment_variables": {},
   "exception": null,
   "input_path": "__notebook__.ipynb",
   "output_path": "__notebook__.ipynb",
   "parameters": {},
   "start_time": "2024-05-13T15:26:19.059379",
   "version": "2.5.0"
  }
 },
 "nbformat": 4,
 "nbformat_minor": 5
}
